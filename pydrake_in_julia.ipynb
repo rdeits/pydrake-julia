{
 "cells": [
  {
   "cell_type": "markdown",
   "metadata": {},
   "source": [
    "# Running Drake from Julia: The Easy Way\n",
    "\n",
    "@tkoolen figured out a nice way to run any drake code in Julia, using the Cxx.jl package: https://github.com/tkoolen/drake/wiki/Running-Drake-code-from-Julia's-REPL \n",
    "\n",
    "However, if you're looking for a simpler (and more memory-safe) interface, it's also possible to use Drake in Julia by going through the Python bindings. \n",
    "\n",
    "## Prerequisites\n",
    "\n",
    "You'll need to have the PyCall.jl package installed. Get it by running:\n",
    "\n",
    "    Pkg.add(\"PyCall\")\n",
    "    \n",
    "You will also need a working build of Drake. "
   ]
  },
  {
   "cell_type": "code",
   "execution_count": 3,
   "metadata": {
    "collapsed": false
   },
   "outputs": [],
   "source": [
    "using PyCall\n",
    "\n",
    "# Add the Drake python bindings to the Python path\n",
    "sys = pyimport(\"sys\")\n",
    "push!(PyVector(sys[\"path\"]), \n",
    "      \"$(ENV[\"HOME\"])/locomotion/drake-distro/build/install/lib/python2.7/dist-packages\");"
   ]
  },
  {
   "cell_type": "code",
   "execution_count": 5,
   "metadata": {
    "collapsed": false
   },
   "outputs": [
    {
     "data": {
      "text/plain": [
       "3×1 Array{Float64,2}:\n",
       " 1.0\n",
       " 0.0\n",
       " 0.0"
      ]
     },
     "execution_count": 5,
     "metadata": {},
     "output_type": "execute_result"
    }
   ],
   "source": [
    "@pyimport pydrake.rbtree as rbtree\n",
    "\n",
    "r = rbtree.RigidBodyTree(\n",
    "    \"$(ENV[\"HOME\"])/locomotion/drake-distro/drake/examples/Pendulum/Pendulum.urdf\",\n",
    "    rbtree.FloatingBaseType[:kRollPitchYaw])\n",
    "\n",
    "kinsol = r[:doKinematics](zeros(7), zeros(7))\n",
    "\n",
    "p = r[:transformPoints](kinsol, [1 0 0]', 0, 1)"
   ]
  }
 ],
 "metadata": {
  "kernelspec": {
   "display_name": "Julia 0.5.0",
   "language": "julia",
   "name": "julia-0.5"
  },
  "language_info": {
   "file_extension": ".jl",
   "mimetype": "application/julia",
   "name": "julia",
   "version": "0.5.0"
  }
 },
 "nbformat": 4,
 "nbformat_minor": 1
}
